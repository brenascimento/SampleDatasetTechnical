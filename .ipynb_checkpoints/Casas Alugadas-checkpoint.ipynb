{
 "cells": [
  {
   "cell_type": "markdown",
   "id": "aa6da937-6cee-44d7-9c9e-217462a17a63",
   "metadata": {},
   "source": [
    "# Sample Dataset for Pandas"
   ]
  },
  {
   "cell_type": "markdown",
   "id": "124dd484-d9a3-487f-9ab3-67e00693304c",
   "metadata": {},
   "source": [
    "Esse notebook tem como objetivo criar alguns samples datasets(amostras de conjuntos de dados) fakes e aleatórios, a fim de responder questões utilizando numpy, pandas, e seaborn (ajustar o tamanho do gráfico com `matplotlib`)\n",
    "\n",
    "Para o numpy utilizaremos:\n",
    "   * `np.random.default_rng()` - instância do objeto de randomização do numpy\n",
    "   * `rng.choice` - escolha entre opções aleatoriamente\n",
    "   * `rng.integers` - escolha entre um intervalo de interos aleatoriamente\n",
    "\n",
    "Para o pandas utilizaremos: \n",
    "   * `df[df.coluna == valor]` - Seleção de Colunas\n",
    "   * `df.groupby('coluna').funcao_de_agregacao` - Agregação (Group by)\n",
    "   * `df.groupby('coluna').apply(funcao)` - Funções Apply Lambda\n",
    "   * `pd.concat([df1, df2])` e `df1.merge(df2, how='inner', on='id')` - União de dados (Concat, Merge)\n",
    "   * `df.corr()` - para ver o coeficiente de correlação de Pearson entre as colunas númericas, sendo > 0 correlação positiva, e < 0 correlação negativa, sendo acima 0.4/-0.4 uma correlação forte.\n",
    "   \n",
    "Para o seaborn utilizaremos:\n",
    "   * `sns.pairplot(data=df)` - para ver todas as colunas númericas em scatterplot a fim de entender visualmente a correlação entre os dados\n",
    "   * `sns.scatterplot(x='coluna_explica', y='coluna_responde'[, hue='coluna_categorica'], data=df)` - Ver a correlação entre os dados\n",
    "   * `sns.regplot(x='coluna_explica', y='coluna_responde'[, hue='coluna_categorica'], data=df)` - Ver a correlação entre os dados junto a uma linha reta que explica melhor a correlação entre as váriaveis.\n",
    "   * `plt.figure(figsize=(largura, altura))`(matplotlib) - Tamanho do gráfico\n",
    "   \n"
   ]
  },
  {
   "cell_type": "code",
   "execution_count": 1,
   "id": "029829ca-50f2-4d9f-ac67-66e66ffd18b8",
   "metadata": {},
   "outputs": [],
   "source": [
    "import pandas as pd\n",
    "import numpy as np"
   ]
  },
  {
   "cell_type": "code",
   "execution_count": 2,
   "id": "0779572f-16ad-4017-8f64-9b4a0123a91c",
   "metadata": {},
   "outputs": [],
   "source": [
    "random_sample = np.random.default_rng(7012022)"
   ]
  },
  {
   "cell_type": "code",
   "execution_count": 3,
   "id": "8a8a537d-5e59-4061-8612-ed80f38afa15",
   "metadata": {},
   "outputs": [
    {
     "data": {
      "text/html": [
       "<div>\n",
       "<style scoped>\n",
       "    .dataframe tbody tr th:only-of-type {\n",
       "        vertical-align: middle;\n",
       "    }\n",
       "\n",
       "    .dataframe tbody tr th {\n",
       "        vertical-align: top;\n",
       "    }\n",
       "\n",
       "    .dataframe thead th {\n",
       "        text-align: right;\n",
       "    }\n",
       "</style>\n",
       "<table border=\"1\" class=\"dataframe\">\n",
       "  <thead>\n",
       "    <tr style=\"text-align: right;\">\n",
       "      <th></th>\n",
       "      <th>cidade</th>\n",
       "      <th>num_comodos</th>\n",
       "      <th>esta_alugado</th>\n",
       "    </tr>\n",
       "  </thead>\n",
       "  <tbody>\n",
       "    <tr>\n",
       "      <th>0</th>\n",
       "      <td>São Paulo</td>\n",
       "      <td>12</td>\n",
       "      <td>1</td>\n",
       "    </tr>\n",
       "    <tr>\n",
       "      <th>1</th>\n",
       "      <td>Minas Gerais</td>\n",
       "      <td>9</td>\n",
       "      <td>0</td>\n",
       "    </tr>\n",
       "    <tr>\n",
       "      <th>2</th>\n",
       "      <td>Minas Gerais</td>\n",
       "      <td>5</td>\n",
       "      <td>1</td>\n",
       "    </tr>\n",
       "    <tr>\n",
       "      <th>3</th>\n",
       "      <td>Minas Gerais</td>\n",
       "      <td>8</td>\n",
       "      <td>0</td>\n",
       "    </tr>\n",
       "    <tr>\n",
       "      <th>4</th>\n",
       "      <td>São Paulo</td>\n",
       "      <td>9</td>\n",
       "      <td>1</td>\n",
       "    </tr>\n",
       "    <tr>\n",
       "      <th>5</th>\n",
       "      <td>São Paulo</td>\n",
       "      <td>7</td>\n",
       "      <td>1</td>\n",
       "    </tr>\n",
       "    <tr>\n",
       "      <th>6</th>\n",
       "      <td>Minas Gerais</td>\n",
       "      <td>9</td>\n",
       "      <td>1</td>\n",
       "    </tr>\n",
       "    <tr>\n",
       "      <th>7</th>\n",
       "      <td>São Paulo</td>\n",
       "      <td>9</td>\n",
       "      <td>0</td>\n",
       "    </tr>\n",
       "    <tr>\n",
       "      <th>8</th>\n",
       "      <td>São Paulo</td>\n",
       "      <td>4</td>\n",
       "      <td>1</td>\n",
       "    </tr>\n",
       "    <tr>\n",
       "      <th>9</th>\n",
       "      <td>Rio de Janeiro</td>\n",
       "      <td>8</td>\n",
       "      <td>0</td>\n",
       "    </tr>\n",
       "    <tr>\n",
       "      <th>10</th>\n",
       "      <td>Minas Gerais</td>\n",
       "      <td>6</td>\n",
       "      <td>1</td>\n",
       "    </tr>\n",
       "    <tr>\n",
       "      <th>11</th>\n",
       "      <td>São Paulo</td>\n",
       "      <td>10</td>\n",
       "      <td>1</td>\n",
       "    </tr>\n",
       "    <tr>\n",
       "      <th>12</th>\n",
       "      <td>Rio de Janeiro</td>\n",
       "      <td>5</td>\n",
       "      <td>0</td>\n",
       "    </tr>\n",
       "    <tr>\n",
       "      <th>13</th>\n",
       "      <td>São Paulo</td>\n",
       "      <td>10</td>\n",
       "      <td>0</td>\n",
       "    </tr>\n",
       "    <tr>\n",
       "      <th>14</th>\n",
       "      <td>Minas Gerais</td>\n",
       "      <td>7</td>\n",
       "      <td>0</td>\n",
       "    </tr>\n",
       "    <tr>\n",
       "      <th>15</th>\n",
       "      <td>São Paulo</td>\n",
       "      <td>7</td>\n",
       "      <td>0</td>\n",
       "    </tr>\n",
       "    <tr>\n",
       "      <th>16</th>\n",
       "      <td>Rio de Janeiro</td>\n",
       "      <td>4</td>\n",
       "      <td>1</td>\n",
       "    </tr>\n",
       "    <tr>\n",
       "      <th>17</th>\n",
       "      <td>Rio de Janeiro</td>\n",
       "      <td>8</td>\n",
       "      <td>0</td>\n",
       "    </tr>\n",
       "    <tr>\n",
       "      <th>18</th>\n",
       "      <td>São Paulo</td>\n",
       "      <td>9</td>\n",
       "      <td>1</td>\n",
       "    </tr>\n",
       "    <tr>\n",
       "      <th>19</th>\n",
       "      <td>São Paulo</td>\n",
       "      <td>8</td>\n",
       "      <td>1</td>\n",
       "    </tr>\n",
       "  </tbody>\n",
       "</table>\n",
       "</div>"
      ],
      "text/plain": [
       "            cidade  num_comodos  esta_alugado\n",
       "0        São Paulo           12             1\n",
       "1     Minas Gerais            9             0\n",
       "2     Minas Gerais            5             1\n",
       "3     Minas Gerais            8             0\n",
       "4        São Paulo            9             1\n",
       "5        São Paulo            7             1\n",
       "6     Minas Gerais            9             1\n",
       "7        São Paulo            9             0\n",
       "8        São Paulo            4             1\n",
       "9   Rio de Janeiro            8             0\n",
       "10    Minas Gerais            6             1\n",
       "11       São Paulo           10             1\n",
       "12  Rio de Janeiro            5             0\n",
       "13       São Paulo           10             0\n",
       "14    Minas Gerais            7             0\n",
       "15       São Paulo            7             0\n",
       "16  Rio de Janeiro            4             1\n",
       "17  Rio de Janeiro            8             0\n",
       "18       São Paulo            9             1\n",
       "19       São Paulo            8             1"
      ]
     },
     "execution_count": 3,
     "metadata": {},
     "output_type": "execute_result"
    }
   ],
   "source": [
    "casas_alugadas = pd.DataFrame(\n",
    "        {'cidade': random_sample.choice(['São Paulo', 'Minas Gerais', 'Rio de Janeiro'], size=20),\n",
    "        'num_comodos': random_sample.integers(low=4, high=14, size=20),\n",
    "        'esta_alugado': random_sample.choice([0, 1], size=20)}\n",
    ")\n",
    "casas_alugadas"
   ]
  },
  {
   "cell_type": "markdown",
   "id": "d7e17bd6-bf9c-4781-add1-f5df65c8ab3d",
   "metadata": {
    "tags": []
   },
   "source": [
    "# Usabilidade do Pandas e funções\n",
    "* os 5 primeiros\n",
    "* os 5 ultimos\n",
    "* 5 dados aleatorios - sample\n",
    "* quais são os tipos dos dados - dtype\n",
    "* quantos dados unicos temos - size\n",
    "* qual o tamanho de linhas e colunas - shape\n",
    "* uso de memória - memory_usage\n",
    "* descrição dos dados - describe\n",
    "* informação dos dados - info\n",
    "* juntando dois dataframes - concat\n",
    "* juntando dois dataframes baseados em uma determinada coluna - merge"
   ]
  },
  {
   "cell_type": "code",
   "execution_count": 4,
   "id": "cd4dcb65-bb10-4026-b9e9-b4db2b166169",
   "metadata": {},
   "outputs": [
    {
     "data": {
      "text/html": [
       "<div>\n",
       "<style scoped>\n",
       "    .dataframe tbody tr th:only-of-type {\n",
       "        vertical-align: middle;\n",
       "    }\n",
       "\n",
       "    .dataframe tbody tr th {\n",
       "        vertical-align: top;\n",
       "    }\n",
       "\n",
       "    .dataframe thead th {\n",
       "        text-align: right;\n",
       "    }\n",
       "</style>\n",
       "<table border=\"1\" class=\"dataframe\">\n",
       "  <thead>\n",
       "    <tr style=\"text-align: right;\">\n",
       "      <th></th>\n",
       "      <th>cidade</th>\n",
       "      <th>num_comodos</th>\n",
       "      <th>esta_alugado</th>\n",
       "    </tr>\n",
       "  </thead>\n",
       "  <tbody>\n",
       "    <tr>\n",
       "      <th>0</th>\n",
       "      <td>São Paulo</td>\n",
       "      <td>12</td>\n",
       "      <td>1</td>\n",
       "    </tr>\n",
       "    <tr>\n",
       "      <th>1</th>\n",
       "      <td>Minas Gerais</td>\n",
       "      <td>9</td>\n",
       "      <td>0</td>\n",
       "    </tr>\n",
       "    <tr>\n",
       "      <th>2</th>\n",
       "      <td>Minas Gerais</td>\n",
       "      <td>5</td>\n",
       "      <td>1</td>\n",
       "    </tr>\n",
       "    <tr>\n",
       "      <th>3</th>\n",
       "      <td>Minas Gerais</td>\n",
       "      <td>8</td>\n",
       "      <td>0</td>\n",
       "    </tr>\n",
       "    <tr>\n",
       "      <th>4</th>\n",
       "      <td>São Paulo</td>\n",
       "      <td>9</td>\n",
       "      <td>1</td>\n",
       "    </tr>\n",
       "  </tbody>\n",
       "</table>\n",
       "</div>"
      ],
      "text/plain": [
       "         cidade  num_comodos  esta_alugado\n",
       "0     São Paulo           12             1\n",
       "1  Minas Gerais            9             0\n",
       "2  Minas Gerais            5             1\n",
       "3  Minas Gerais            8             0\n",
       "4     São Paulo            9             1"
      ]
     },
     "execution_count": 4,
     "metadata": {},
     "output_type": "execute_result"
    }
   ],
   "source": [
    "# os 5 primeiros\n",
    "casas_alugadas.head()"
   ]
  },
  {
   "cell_type": "code",
   "execution_count": 5,
   "id": "37fda382-375c-406b-9f77-8f0beeb00028",
   "metadata": {},
   "outputs": [
    {
     "data": {
      "text/html": [
       "<div>\n",
       "<style scoped>\n",
       "    .dataframe tbody tr th:only-of-type {\n",
       "        vertical-align: middle;\n",
       "    }\n",
       "\n",
       "    .dataframe tbody tr th {\n",
       "        vertical-align: top;\n",
       "    }\n",
       "\n",
       "    .dataframe thead th {\n",
       "        text-align: right;\n",
       "    }\n",
       "</style>\n",
       "<table border=\"1\" class=\"dataframe\">\n",
       "  <thead>\n",
       "    <tr style=\"text-align: right;\">\n",
       "      <th></th>\n",
       "      <th>cidade</th>\n",
       "      <th>num_comodos</th>\n",
       "      <th>esta_alugado</th>\n",
       "    </tr>\n",
       "  </thead>\n",
       "  <tbody>\n",
       "    <tr>\n",
       "      <th>15</th>\n",
       "      <td>São Paulo</td>\n",
       "      <td>7</td>\n",
       "      <td>0</td>\n",
       "    </tr>\n",
       "    <tr>\n",
       "      <th>16</th>\n",
       "      <td>Rio de Janeiro</td>\n",
       "      <td>4</td>\n",
       "      <td>1</td>\n",
       "    </tr>\n",
       "    <tr>\n",
       "      <th>17</th>\n",
       "      <td>Rio de Janeiro</td>\n",
       "      <td>8</td>\n",
       "      <td>0</td>\n",
       "    </tr>\n",
       "    <tr>\n",
       "      <th>18</th>\n",
       "      <td>São Paulo</td>\n",
       "      <td>9</td>\n",
       "      <td>1</td>\n",
       "    </tr>\n",
       "    <tr>\n",
       "      <th>19</th>\n",
       "      <td>São Paulo</td>\n",
       "      <td>8</td>\n",
       "      <td>1</td>\n",
       "    </tr>\n",
       "  </tbody>\n",
       "</table>\n",
       "</div>"
      ],
      "text/plain": [
       "            cidade  num_comodos  esta_alugado\n",
       "15       São Paulo            7             0\n",
       "16  Rio de Janeiro            4             1\n",
       "17  Rio de Janeiro            8             0\n",
       "18       São Paulo            9             1\n",
       "19       São Paulo            8             1"
      ]
     },
     "execution_count": 5,
     "metadata": {},
     "output_type": "execute_result"
    }
   ],
   "source": [
    "# 5 ultimos\n",
    "casas_alugadas.tail()"
   ]
  },
  {
   "cell_type": "code",
   "execution_count": 6,
   "id": "d5fa5727-5d80-405d-b507-6b0de5356a33",
   "metadata": {},
   "outputs": [
    {
     "data": {
      "text/html": [
       "<div>\n",
       "<style scoped>\n",
       "    .dataframe tbody tr th:only-of-type {\n",
       "        vertical-align: middle;\n",
       "    }\n",
       "\n",
       "    .dataframe tbody tr th {\n",
       "        vertical-align: top;\n",
       "    }\n",
       "\n",
       "    .dataframe thead th {\n",
       "        text-align: right;\n",
       "    }\n",
       "</style>\n",
       "<table border=\"1\" class=\"dataframe\">\n",
       "  <thead>\n",
       "    <tr style=\"text-align: right;\">\n",
       "      <th></th>\n",
       "      <th>cidade</th>\n",
       "      <th>num_comodos</th>\n",
       "      <th>esta_alugado</th>\n",
       "    </tr>\n",
       "  </thead>\n",
       "  <tbody>\n",
       "    <tr>\n",
       "      <th>14</th>\n",
       "      <td>Minas Gerais</td>\n",
       "      <td>7</td>\n",
       "      <td>0</td>\n",
       "    </tr>\n",
       "    <tr>\n",
       "      <th>16</th>\n",
       "      <td>Rio de Janeiro</td>\n",
       "      <td>4</td>\n",
       "      <td>1</td>\n",
       "    </tr>\n",
       "    <tr>\n",
       "      <th>13</th>\n",
       "      <td>São Paulo</td>\n",
       "      <td>10</td>\n",
       "      <td>0</td>\n",
       "    </tr>\n",
       "    <tr>\n",
       "      <th>5</th>\n",
       "      <td>São Paulo</td>\n",
       "      <td>7</td>\n",
       "      <td>1</td>\n",
       "    </tr>\n",
       "    <tr>\n",
       "      <th>2</th>\n",
       "      <td>Minas Gerais</td>\n",
       "      <td>5</td>\n",
       "      <td>1</td>\n",
       "    </tr>\n",
       "  </tbody>\n",
       "</table>\n",
       "</div>"
      ],
      "text/plain": [
       "            cidade  num_comodos  esta_alugado\n",
       "14    Minas Gerais            7             0\n",
       "16  Rio de Janeiro            4             1\n",
       "13       São Paulo           10             0\n",
       "5        São Paulo            7             1\n",
       "2     Minas Gerais            5             1"
      ]
     },
     "execution_count": 6,
     "metadata": {},
     "output_type": "execute_result"
    }
   ],
   "source": [
    "# 5 aleatorios\n",
    "casas_alugadas.sample(5)"
   ]
  },
  {
   "cell_type": "code",
   "execution_count": 7,
   "id": "b1a3abb4-2105-4626-a1a3-bd46c8753099",
   "metadata": {},
   "outputs": [
    {
     "data": {
      "text/plain": [
       "cidade          object\n",
       "num_comodos      int64\n",
       "esta_alugado     int32\n",
       "dtype: object"
      ]
     },
     "execution_count": 7,
     "metadata": {},
     "output_type": "execute_result"
    }
   ],
   "source": [
    "# tipos dos dados\n",
    "casas_alugadas.dtypes"
   ]
  },
  {
   "cell_type": "code",
   "execution_count": 8,
   "id": "5c17a796-08f0-465b-8a74-6ed01dbd35c2",
   "metadata": {},
   "outputs": [
    {
     "data": {
      "text/plain": [
       "60"
      ]
     },
     "execution_count": 8,
     "metadata": {},
     "output_type": "execute_result"
    }
   ],
   "source": [
    "# n de dados ao todo\n",
    "casas_alugadas.size"
   ]
  },
  {
   "cell_type": "code",
   "execution_count": 9,
   "id": "665aaf1e-206b-45ec-92c5-1a5d7975a0f2",
   "metadata": {},
   "outputs": [
    {
     "data": {
      "text/plain": [
       "Index            64\n",
       "cidade           80\n",
       "num_comodos     160\n",
       "esta_alugado     80\n",
       "dtype: int64"
      ]
     },
     "execution_count": 9,
     "metadata": {},
     "output_type": "execute_result"
    }
   ],
   "source": [
    "# uso de memória\n",
    "casas_alugadas.memory_usage()"
   ]
  },
  {
   "cell_type": "code",
   "execution_count": 10,
   "id": "688d7ac7-d7e1-4616-9bec-68545c483e8f",
   "metadata": {},
   "outputs": [
    {
     "data": {
      "text/html": [
       "<div>\n",
       "<style scoped>\n",
       "    .dataframe tbody tr th:only-of-type {\n",
       "        vertical-align: middle;\n",
       "    }\n",
       "\n",
       "    .dataframe tbody tr th {\n",
       "        vertical-align: top;\n",
       "    }\n",
       "\n",
       "    .dataframe thead th {\n",
       "        text-align: right;\n",
       "    }\n",
       "</style>\n",
       "<table border=\"1\" class=\"dataframe\">\n",
       "  <thead>\n",
       "    <tr style=\"text-align: right;\">\n",
       "      <th></th>\n",
       "      <th>num_comodos</th>\n",
       "      <th>esta_alugado</th>\n",
       "    </tr>\n",
       "  </thead>\n",
       "  <tbody>\n",
       "    <tr>\n",
       "      <th>count</th>\n",
       "      <td>20.000000</td>\n",
       "      <td>20.000000</td>\n",
       "    </tr>\n",
       "    <tr>\n",
       "      <th>mean</th>\n",
       "      <td>7.700000</td>\n",
       "      <td>0.550000</td>\n",
       "    </tr>\n",
       "    <tr>\n",
       "      <th>std</th>\n",
       "      <td>2.105132</td>\n",
       "      <td>0.510418</td>\n",
       "    </tr>\n",
       "    <tr>\n",
       "      <th>min</th>\n",
       "      <td>4.000000</td>\n",
       "      <td>0.000000</td>\n",
       "    </tr>\n",
       "    <tr>\n",
       "      <th>25%</th>\n",
       "      <td>6.750000</td>\n",
       "      <td>0.000000</td>\n",
       "    </tr>\n",
       "    <tr>\n",
       "      <th>50%</th>\n",
       "      <td>8.000000</td>\n",
       "      <td>1.000000</td>\n",
       "    </tr>\n",
       "    <tr>\n",
       "      <th>75%</th>\n",
       "      <td>9.000000</td>\n",
       "      <td>1.000000</td>\n",
       "    </tr>\n",
       "    <tr>\n",
       "      <th>max</th>\n",
       "      <td>12.000000</td>\n",
       "      <td>1.000000</td>\n",
       "    </tr>\n",
       "  </tbody>\n",
       "</table>\n",
       "</div>"
      ],
      "text/plain": [
       "       num_comodos  esta_alugado\n",
       "count    20.000000     20.000000\n",
       "mean      7.700000      0.550000\n",
       "std       2.105132      0.510418\n",
       "min       4.000000      0.000000\n",
       "25%       6.750000      0.000000\n",
       "50%       8.000000      1.000000\n",
       "75%       9.000000      1.000000\n",
       "max      12.000000      1.000000"
      ]
     },
     "execution_count": 10,
     "metadata": {},
     "output_type": "execute_result"
    }
   ],
   "source": [
    "# descrição dos dados\n",
    "casas_alugadas.describe()"
   ]
  },
  {
   "cell_type": "code",
   "execution_count": 11,
   "id": "3eb2263d-f674-45e1-85aa-e5788faacb29",
   "metadata": {},
   "outputs": [
    {
     "name": "stdout",
     "output_type": "stream",
     "text": [
      "<class 'pandas.core.frame.DataFrame'>\n",
      "RangeIndex: 20 entries, 0 to 19\n",
      "Data columns (total 3 columns):\n",
      " #   Column        Non-Null Count  Dtype \n",
      "---  ------        --------------  ----- \n",
      " 0   cidade        20 non-null     object\n",
      " 1   num_comodos   20 non-null     int64 \n",
      " 2   esta_alugado  20 non-null     int32 \n",
      "dtypes: int32(1), int64(1), object(1)\n",
      "memory usage: 384.0+ bytes\n"
     ]
    }
   ],
   "source": [
    "# informação dos dados\n",
    "casas_alugadas.info()"
   ]
  },
  {
   "cell_type": "markdown",
   "id": "0a3dc18b-d5b9-425f-983d-e8d7f329063d",
   "metadata": {},
   "source": [
    "Agora juntaremos dois dataframes"
   ]
  },
  {
   "cell_type": "markdown",
   "id": "14eba0a4-1867-469f-9517-c034ea0c8d13",
   "metadata": {},
   "source": [
    "### <div id=\"calcula_preco\">Função para calcular o preço</div>"
   ]
  },
  {
   "cell_type": "code",
   "execution_count": 66,
   "id": "777bfe3f-e295-4b42-9c40-101220673812",
   "metadata": {},
   "outputs": [],
   "source": [
    "# Criação de um calculador de presos \n",
    "def calcula_preco(lista_imobiliarias, num_comodos):\n",
    "    fator_imobiliarias = {\n",
    "        'Macedo': 600 + random_sample.random() * 3500,\n",
    "        'Imobilius': 550 + random_sample.random() * 1500,\n",
    "        'Xhouses': 750 + random_sample.random() * 5670,\n",
    "        'Brasil Casas': 850 + random_sample.random() * 8000\n",
    "    }\n",
    "    precos_em_reais = np.array([])\n",
    "    for im in range(len(lista_imobiliarias)):\n",
    "        precos_em_reais = np.append(precos_em_reais, fator_imobiliarias[lista_imobiliarias[im]] * (num_comodos[im]/2))\n",
    "    return precos_em_reais"
   ]
  },
  {
   "cell_type": "code",
   "execution_count": 13,
   "id": "5d6eeb65-5e3c-4207-a63d-a5962999354e",
   "metadata": {},
   "outputs": [],
   "source": [
    "# criar um dataframe com os preços e imobiliaria\n",
    "imobiliarias = pd.DataFrame(\n",
    "    {\n",
    "        'imobiliaria': random_sample.choice(['Macedo', 'Imobilius', 'Xhouses', 'Brasil Casas'], size=20),\n",
    "        'preco': calcula_preco(random_sample.choice(['Macedo', 'Imobilius', 'Xhouses', 'Brasil Casas'], size=20), casas_alugadas['num_comodos'])\n",
    "    }\n",
    ")"
   ]
  },
  {
   "cell_type": "code",
   "execution_count": 14,
   "id": "b217fe49-c14a-4562-85df-82114ab90a00",
   "metadata": {},
   "outputs": [
    {
     "data": {
      "text/html": [
       "<div>\n",
       "<style scoped>\n",
       "    .dataframe tbody tr th:only-of-type {\n",
       "        vertical-align: middle;\n",
       "    }\n",
       "\n",
       "    .dataframe tbody tr th {\n",
       "        vertical-align: top;\n",
       "    }\n",
       "\n",
       "    .dataframe thead th {\n",
       "        text-align: right;\n",
       "    }\n",
       "</style>\n",
       "<table border=\"1\" class=\"dataframe\">\n",
       "  <thead>\n",
       "    <tr style=\"text-align: right;\">\n",
       "      <th></th>\n",
       "      <th>imobiliaria</th>\n",
       "      <th>preco</th>\n",
       "    </tr>\n",
       "  </thead>\n",
       "  <tbody>\n",
       "    <tr>\n",
       "      <th>0</th>\n",
       "      <td>Xhouses</td>\n",
       "      <td>9003.783773</td>\n",
       "    </tr>\n",
       "    <tr>\n",
       "      <th>1</th>\n",
       "      <td>Brasil Casas</td>\n",
       "      <td>6752.837830</td>\n",
       "    </tr>\n",
       "    <tr>\n",
       "      <th>2</th>\n",
       "      <td>Macedo</td>\n",
       "      <td>14143.285066</td>\n",
       "    </tr>\n",
       "    <tr>\n",
       "      <th>3</th>\n",
       "      <td>Macedo</td>\n",
       "      <td>22629.256106</td>\n",
       "    </tr>\n",
       "    <tr>\n",
       "      <th>4</th>\n",
       "      <td>Macedo</td>\n",
       "      <td>6752.837830</td>\n",
       "    </tr>\n",
       "  </tbody>\n",
       "</table>\n",
       "</div>"
      ],
      "text/plain": [
       "    imobiliaria         preco\n",
       "0       Xhouses   9003.783773\n",
       "1  Brasil Casas   6752.837830\n",
       "2        Macedo  14143.285066\n",
       "3        Macedo  22629.256106\n",
       "4        Macedo   6752.837830"
      ]
     },
     "execution_count": 14,
     "metadata": {},
     "output_type": "execute_result"
    }
   ],
   "source": [
    "imobiliarias.head()"
   ]
  },
  {
   "cell_type": "code",
   "execution_count": 15,
   "id": "2a39fd9f-4693-4b2d-bcf8-b64037ab9e07",
   "metadata": {},
   "outputs": [
    {
     "data": {
      "text/html": [
       "<div>\n",
       "<style scoped>\n",
       "    .dataframe tbody tr th:only-of-type {\n",
       "        vertical-align: middle;\n",
       "    }\n",
       "\n",
       "    .dataframe tbody tr th {\n",
       "        vertical-align: top;\n",
       "    }\n",
       "\n",
       "    .dataframe thead th {\n",
       "        text-align: right;\n",
       "    }\n",
       "</style>\n",
       "<table border=\"1\" class=\"dataframe\">\n",
       "  <thead>\n",
       "    <tr style=\"text-align: right;\">\n",
       "      <th></th>\n",
       "      <th>preco</th>\n",
       "    </tr>\n",
       "  </thead>\n",
       "  <tbody>\n",
       "    <tr>\n",
       "      <th>count</th>\n",
       "      <td>20.000000</td>\n",
       "    </tr>\n",
       "    <tr>\n",
       "      <th>mean</th>\n",
       "      <td>12884.697479</td>\n",
       "    </tr>\n",
       "    <tr>\n",
       "      <th>std</th>\n",
       "      <td>8110.019003</td>\n",
       "    </tr>\n",
       "    <tr>\n",
       "      <th>min</th>\n",
       "      <td>4020.518223</td>\n",
       "    </tr>\n",
       "    <tr>\n",
       "      <th>25%</th>\n",
       "      <td>6752.837830</td>\n",
       "    </tr>\n",
       "    <tr>\n",
       "      <th>50%</th>\n",
       "      <td>8522.410110</td>\n",
       "    </tr>\n",
       "    <tr>\n",
       "      <th>75%</th>\n",
       "      <td>17888.706345</td>\n",
       "    </tr>\n",
       "    <tr>\n",
       "      <th>max</th>\n",
       "      <td>28286.570133</td>\n",
       "    </tr>\n",
       "  </tbody>\n",
       "</table>\n",
       "</div>"
      ],
      "text/plain": [
       "              preco\n",
       "count     20.000000\n",
       "mean   12884.697479\n",
       "std     8110.019003\n",
       "min     4020.518223\n",
       "25%     6752.837830\n",
       "50%     8522.410110\n",
       "75%    17888.706345\n",
       "max    28286.570133"
      ]
     },
     "execution_count": 15,
     "metadata": {},
     "output_type": "execute_result"
    }
   ],
   "source": [
    "imobiliarias.describe()"
   ]
  },
  {
   "cell_type": "markdown",
   "id": "7ffb3ebd-0c3a-4ff6-beaf-54ae9de2e218",
   "metadata": {},
   "source": [
    "## Usando o groupby e o apply"
   ]
  },
  {
   "cell_type": "code",
   "execution_count": 16,
   "id": "d6913973-20e7-4315-bed9-07c37c26284c",
   "metadata": {},
   "outputs": [
    {
     "data": {
      "text/html": [
       "<div>\n",
       "<style scoped>\n",
       "    .dataframe tbody tr th:only-of-type {\n",
       "        vertical-align: middle;\n",
       "    }\n",
       "\n",
       "    .dataframe tbody tr th {\n",
       "        vertical-align: top;\n",
       "    }\n",
       "\n",
       "    .dataframe thead tr th {\n",
       "        text-align: left;\n",
       "    }\n",
       "\n",
       "    .dataframe thead tr:last-of-type th {\n",
       "        text-align: right;\n",
       "    }\n",
       "</style>\n",
       "<table border=\"1\" class=\"dataframe\">\n",
       "  <thead>\n",
       "    <tr>\n",
       "      <th></th>\n",
       "      <th colspan=\"4\" halign=\"left\">preco</th>\n",
       "    </tr>\n",
       "    <tr>\n",
       "      <th></th>\n",
       "      <th>max</th>\n",
       "      <th>min</th>\n",
       "      <th>mean</th>\n",
       "      <th>median</th>\n",
       "    </tr>\n",
       "    <tr>\n",
       "      <th>imobiliaria</th>\n",
       "      <th></th>\n",
       "      <th></th>\n",
       "      <th></th>\n",
       "      <th></th>\n",
       "    </tr>\n",
       "  </thead>\n",
       "  <tbody>\n",
       "    <tr>\n",
       "      <th>Brasil Casas</th>\n",
       "      <td>17251.0</td>\n",
       "      <td>5026.0</td>\n",
       "      <td>9268.0</td>\n",
       "      <td>7397.0</td>\n",
       "    </tr>\n",
       "    <tr>\n",
       "      <th>Imobilius</th>\n",
       "      <td>28287.0</td>\n",
       "      <td>7036.0</td>\n",
       "      <td>17416.0</td>\n",
       "      <td>16609.0</td>\n",
       "    </tr>\n",
       "    <tr>\n",
       "      <th>Macedo</th>\n",
       "      <td>22629.0</td>\n",
       "      <td>4021.0</td>\n",
       "      <td>9476.0</td>\n",
       "      <td>6753.0</td>\n",
       "    </tr>\n",
       "    <tr>\n",
       "      <th>Xhouses</th>\n",
       "      <td>25458.0</td>\n",
       "      <td>9004.0</td>\n",
       "      <td>16599.0</td>\n",
       "      <td>15335.0</td>\n",
       "    </tr>\n",
       "  </tbody>\n",
       "</table>\n",
       "</div>"
      ],
      "text/plain": [
       "                preco                          \n",
       "                  max     min     mean   median\n",
       "imobiliaria                                    \n",
       "Brasil Casas  17251.0  5026.0   9268.0   7397.0\n",
       "Imobilius     28287.0  7036.0  17416.0  16609.0\n",
       "Macedo        22629.0  4021.0   9476.0   6753.0\n",
       "Xhouses       25458.0  9004.0  16599.0  15335.0"
      ]
     },
     "execution_count": 16,
     "metadata": {},
     "output_type": "execute_result"
    }
   ],
   "source": [
    "imobiliarias.groupby('imobiliaria').agg(['max', 'min', 'mean', 'median']).apply(round)"
   ]
  },
  {
   "cell_type": "markdown",
   "id": "0c20c3c0-0fe1-424e-8ce9-cae9b5f617ab",
   "metadata": {},
   "source": [
    "## União por meio do concat de dois dataframes"
   ]
  },
  {
   "cell_type": "code",
   "execution_count": 17,
   "id": "c3de2226-e563-4d18-a455-9c6b46923ec3",
   "metadata": {},
   "outputs": [],
   "source": [
    "casas_alugadas_concatenado = pd.concat([casas_alugadas, imobiliarias], axis=1)"
   ]
  },
  {
   "cell_type": "code",
   "execution_count": 18,
   "id": "fad823a2-93c6-4c57-a1e4-f170be4d74ea",
   "metadata": {},
   "outputs": [
    {
     "data": {
      "text/html": [
       "<div>\n",
       "<style scoped>\n",
       "    .dataframe tbody tr th:only-of-type {\n",
       "        vertical-align: middle;\n",
       "    }\n",
       "\n",
       "    .dataframe tbody tr th {\n",
       "        vertical-align: top;\n",
       "    }\n",
       "\n",
       "    .dataframe thead th {\n",
       "        text-align: right;\n",
       "    }\n",
       "</style>\n",
       "<table border=\"1\" class=\"dataframe\">\n",
       "  <thead>\n",
       "    <tr style=\"text-align: right;\">\n",
       "      <th></th>\n",
       "      <th>num_comodos</th>\n",
       "      <th>esta_alugado</th>\n",
       "      <th>preco</th>\n",
       "    </tr>\n",
       "  </thead>\n",
       "  <tbody>\n",
       "    <tr>\n",
       "      <th>count</th>\n",
       "      <td>20.00</td>\n",
       "      <td>20.00</td>\n",
       "      <td>20.00</td>\n",
       "    </tr>\n",
       "    <tr>\n",
       "      <th>mean</th>\n",
       "      <td>7.70</td>\n",
       "      <td>0.55</td>\n",
       "      <td>12884.70</td>\n",
       "    </tr>\n",
       "    <tr>\n",
       "      <th>std</th>\n",
       "      <td>2.11</td>\n",
       "      <td>0.51</td>\n",
       "      <td>8110.02</td>\n",
       "    </tr>\n",
       "    <tr>\n",
       "      <th>min</th>\n",
       "      <td>4.00</td>\n",
       "      <td>0.00</td>\n",
       "      <td>4020.52</td>\n",
       "    </tr>\n",
       "    <tr>\n",
       "      <th>25%</th>\n",
       "      <td>6.75</td>\n",
       "      <td>0.00</td>\n",
       "      <td>6752.84</td>\n",
       "    </tr>\n",
       "    <tr>\n",
       "      <th>50%</th>\n",
       "      <td>8.00</td>\n",
       "      <td>1.00</td>\n",
       "      <td>8522.41</td>\n",
       "    </tr>\n",
       "    <tr>\n",
       "      <th>75%</th>\n",
       "      <td>9.00</td>\n",
       "      <td>1.00</td>\n",
       "      <td>17888.71</td>\n",
       "    </tr>\n",
       "    <tr>\n",
       "      <th>max</th>\n",
       "      <td>12.00</td>\n",
       "      <td>1.00</td>\n",
       "      <td>28286.57</td>\n",
       "    </tr>\n",
       "  </tbody>\n",
       "</table>\n",
       "</div>"
      ],
      "text/plain": [
       "       num_comodos  esta_alugado     preco\n",
       "count        20.00         20.00     20.00\n",
       "mean          7.70          0.55  12884.70\n",
       "std           2.11          0.51   8110.02\n",
       "min           4.00          0.00   4020.52\n",
       "25%           6.75          0.00   6752.84\n",
       "50%           8.00          1.00   8522.41\n",
       "75%           9.00          1.00  17888.71\n",
       "max          12.00          1.00  28286.57"
      ]
     },
     "execution_count": 18,
     "metadata": {},
     "output_type": "execute_result"
    }
   ],
   "source": [
    "# deixar a visualização mais clara\n",
    "casas_alugadas_concatenado.describe().round(2)"
   ]
  },
  {
   "cell_type": "markdown",
   "id": "59f0d3b7-b9e0-4af6-9aa9-3ad49d6b0741",
   "metadata": {},
   "source": [
    "## Usando o merge para união de dois datasets"
   ]
  },
  {
   "cell_type": "code",
   "execution_count": 19,
   "id": "ab0996ac-64c5-4882-9030-a60e8166bd10",
   "metadata": {},
   "outputs": [
    {
     "name": "stdout",
     "output_type": "stream",
     "text": [
      "colunas casas alugadas: Index(['cidade', 'num_comodos', 'esta_alugado'], dtype='object')\n",
      "colunas imobiliarias: Index(['imobiliaria', 'preco'], dtype='object')\n"
     ]
    }
   ],
   "source": [
    "print(\"colunas casas alugadas:\", casas_alugadas.columns)\n",
    "print(\"colunas imobiliarias:\", imobiliarias.columns)"
   ]
  },
  {
   "cell_type": "markdown",
   "id": "085820a3-a80b-4d1f-bef9-f2f2edf02482",
   "metadata": {},
   "source": [
    "Resetar o index para criar um novo campo 'id' para os datasets casas alugadas e imobiliaria"
   ]
  },
  {
   "cell_type": "code",
   "execution_count": 20,
   "id": "647a6be4-a1e4-464a-b77a-0094f38e29a7",
   "metadata": {},
   "outputs": [],
   "source": [
    "casas_alugadas = casas_alugadas.reset_index().rename(columns={\"index\":\"id\"})\n",
    "imobiliarias = imobiliarias.reset_index().rename(columns={\"index\":\"id\"})"
   ]
  },
  {
   "cell_type": "code",
   "execution_count": 21,
   "id": "de5ebfdf-eb2f-408e-9bf4-91ff31a7400d",
   "metadata": {},
   "outputs": [
    {
     "data": {
      "text/html": [
       "<div>\n",
       "<style scoped>\n",
       "    .dataframe tbody tr th:only-of-type {\n",
       "        vertical-align: middle;\n",
       "    }\n",
       "\n",
       "    .dataframe tbody tr th {\n",
       "        vertical-align: top;\n",
       "    }\n",
       "\n",
       "    .dataframe thead th {\n",
       "        text-align: right;\n",
       "    }\n",
       "</style>\n",
       "<table border=\"1\" class=\"dataframe\">\n",
       "  <thead>\n",
       "    <tr style=\"text-align: right;\">\n",
       "      <th></th>\n",
       "      <th>id</th>\n",
       "      <th>cidade</th>\n",
       "      <th>num_comodos</th>\n",
       "      <th>esta_alugado</th>\n",
       "    </tr>\n",
       "  </thead>\n",
       "  <tbody>\n",
       "    <tr>\n",
       "      <th>0</th>\n",
       "      <td>0</td>\n",
       "      <td>São Paulo</td>\n",
       "      <td>12</td>\n",
       "      <td>1</td>\n",
       "    </tr>\n",
       "    <tr>\n",
       "      <th>1</th>\n",
       "      <td>1</td>\n",
       "      <td>Minas Gerais</td>\n",
       "      <td>9</td>\n",
       "      <td>0</td>\n",
       "    </tr>\n",
       "    <tr>\n",
       "      <th>2</th>\n",
       "      <td>2</td>\n",
       "      <td>Minas Gerais</td>\n",
       "      <td>5</td>\n",
       "      <td>1</td>\n",
       "    </tr>\n",
       "    <tr>\n",
       "      <th>3</th>\n",
       "      <td>3</td>\n",
       "      <td>Minas Gerais</td>\n",
       "      <td>8</td>\n",
       "      <td>0</td>\n",
       "    </tr>\n",
       "    <tr>\n",
       "      <th>4</th>\n",
       "      <td>4</td>\n",
       "      <td>São Paulo</td>\n",
       "      <td>9</td>\n",
       "      <td>1</td>\n",
       "    </tr>\n",
       "  </tbody>\n",
       "</table>\n",
       "</div>"
      ],
      "text/plain": [
       "   id        cidade  num_comodos  esta_alugado\n",
       "0   0     São Paulo           12             1\n",
       "1   1  Minas Gerais            9             0\n",
       "2   2  Minas Gerais            5             1\n",
       "3   3  Minas Gerais            8             0\n",
       "4   4     São Paulo            9             1"
      ]
     },
     "execution_count": 21,
     "metadata": {},
     "output_type": "execute_result"
    }
   ],
   "source": [
    "casas_alugadas.head()"
   ]
  },
  {
   "cell_type": "code",
   "execution_count": 22,
   "id": "79b2dd60-804f-474a-a74a-99dec69ba092",
   "metadata": {},
   "outputs": [
    {
     "data": {
      "text/html": [
       "<div>\n",
       "<style scoped>\n",
       "    .dataframe tbody tr th:only-of-type {\n",
       "        vertical-align: middle;\n",
       "    }\n",
       "\n",
       "    .dataframe tbody tr th {\n",
       "        vertical-align: top;\n",
       "    }\n",
       "\n",
       "    .dataframe thead th {\n",
       "        text-align: right;\n",
       "    }\n",
       "</style>\n",
       "<table border=\"1\" class=\"dataframe\">\n",
       "  <thead>\n",
       "    <tr style=\"text-align: right;\">\n",
       "      <th></th>\n",
       "      <th>id</th>\n",
       "      <th>imobiliaria</th>\n",
       "      <th>preco</th>\n",
       "    </tr>\n",
       "  </thead>\n",
       "  <tbody>\n",
       "    <tr>\n",
       "      <th>0</th>\n",
       "      <td>0</td>\n",
       "      <td>Xhouses</td>\n",
       "      <td>9003.783773</td>\n",
       "    </tr>\n",
       "    <tr>\n",
       "      <th>1</th>\n",
       "      <td>1</td>\n",
       "      <td>Brasil Casas</td>\n",
       "      <td>6752.837830</td>\n",
       "    </tr>\n",
       "    <tr>\n",
       "      <th>2</th>\n",
       "      <td>2</td>\n",
       "      <td>Macedo</td>\n",
       "      <td>14143.285066</td>\n",
       "    </tr>\n",
       "    <tr>\n",
       "      <th>3</th>\n",
       "      <td>3</td>\n",
       "      <td>Macedo</td>\n",
       "      <td>22629.256106</td>\n",
       "    </tr>\n",
       "    <tr>\n",
       "      <th>4</th>\n",
       "      <td>4</td>\n",
       "      <td>Macedo</td>\n",
       "      <td>6752.837830</td>\n",
       "    </tr>\n",
       "  </tbody>\n",
       "</table>\n",
       "</div>"
      ],
      "text/plain": [
       "   id   imobiliaria         preco\n",
       "0   0       Xhouses   9003.783773\n",
       "1   1  Brasil Casas   6752.837830\n",
       "2   2        Macedo  14143.285066\n",
       "3   3        Macedo  22629.256106\n",
       "4   4        Macedo   6752.837830"
      ]
     },
     "execution_count": 22,
     "metadata": {},
     "output_type": "execute_result"
    }
   ],
   "source": [
    "imobiliarias.head()"
   ]
  },
  {
   "cell_type": "code",
   "execution_count": 23,
   "id": "23b9b57a-6312-4d16-bdd8-38f5ef18a78a",
   "metadata": {},
   "outputs": [
    {
     "data": {
      "text/html": [
       "<div>\n",
       "<style scoped>\n",
       "    .dataframe tbody tr th:only-of-type {\n",
       "        vertical-align: middle;\n",
       "    }\n",
       "\n",
       "    .dataframe tbody tr th {\n",
       "        vertical-align: top;\n",
       "    }\n",
       "\n",
       "    .dataframe thead th {\n",
       "        text-align: right;\n",
       "    }\n",
       "</style>\n",
       "<table border=\"1\" class=\"dataframe\">\n",
       "  <thead>\n",
       "    <tr style=\"text-align: right;\">\n",
       "      <th></th>\n",
       "      <th>id</th>\n",
       "      <th>cidade</th>\n",
       "      <th>num_comodos</th>\n",
       "      <th>esta_alugado</th>\n",
       "      <th>imobiliaria</th>\n",
       "      <th>preco</th>\n",
       "    </tr>\n",
       "  </thead>\n",
       "  <tbody>\n",
       "    <tr>\n",
       "      <th>0</th>\n",
       "      <td>0</td>\n",
       "      <td>São Paulo</td>\n",
       "      <td>12</td>\n",
       "      <td>1</td>\n",
       "      <td>Xhouses</td>\n",
       "      <td>9003.783773</td>\n",
       "    </tr>\n",
       "    <tr>\n",
       "      <th>1</th>\n",
       "      <td>1</td>\n",
       "      <td>Minas Gerais</td>\n",
       "      <td>9</td>\n",
       "      <td>0</td>\n",
       "      <td>Brasil Casas</td>\n",
       "      <td>6752.837830</td>\n",
       "    </tr>\n",
       "    <tr>\n",
       "      <th>2</th>\n",
       "      <td>2</td>\n",
       "      <td>Minas Gerais</td>\n",
       "      <td>5</td>\n",
       "      <td>1</td>\n",
       "      <td>Macedo</td>\n",
       "      <td>14143.285066</td>\n",
       "    </tr>\n",
       "    <tr>\n",
       "      <th>3</th>\n",
       "      <td>3</td>\n",
       "      <td>Minas Gerais</td>\n",
       "      <td>8</td>\n",
       "      <td>0</td>\n",
       "      <td>Macedo</td>\n",
       "      <td>22629.256106</td>\n",
       "    </tr>\n",
       "    <tr>\n",
       "      <th>4</th>\n",
       "      <td>4</td>\n",
       "      <td>São Paulo</td>\n",
       "      <td>9</td>\n",
       "      <td>1</td>\n",
       "      <td>Macedo</td>\n",
       "      <td>6752.837830</td>\n",
       "    </tr>\n",
       "    <tr>\n",
       "      <th>5</th>\n",
       "      <td>5</td>\n",
       "      <td>São Paulo</td>\n",
       "      <td>7</td>\n",
       "      <td>1</td>\n",
       "      <td>Imobilius</td>\n",
       "      <td>7035.906891</td>\n",
       "    </tr>\n",
       "    <tr>\n",
       "      <th>6</th>\n",
       "      <td>6</td>\n",
       "      <td>Minas Gerais</td>\n",
       "      <td>9</td>\n",
       "      <td>1</td>\n",
       "      <td>Brasil Casas</td>\n",
       "      <td>17251.408763</td>\n",
       "    </tr>\n",
       "    <tr>\n",
       "      <th>7</th>\n",
       "      <td>7</td>\n",
       "      <td>São Paulo</td>\n",
       "      <td>9</td>\n",
       "      <td>0</td>\n",
       "      <td>Xhouses</td>\n",
       "      <td>25457.913120</td>\n",
       "    </tr>\n",
       "    <tr>\n",
       "      <th>8</th>\n",
       "      <td>8</td>\n",
       "      <td>São Paulo</td>\n",
       "      <td>4</td>\n",
       "      <td>1</td>\n",
       "      <td>Macedo</td>\n",
       "      <td>4020.518223</td>\n",
       "    </tr>\n",
       "    <tr>\n",
       "      <th>9</th>\n",
       "      <td>9</td>\n",
       "      <td>Rio de Janeiro</td>\n",
       "      <td>8</td>\n",
       "      <td>0</td>\n",
       "      <td>Xhouses</td>\n",
       "      <td>15334.585567</td>\n",
       "    </tr>\n",
       "    <tr>\n",
       "      <th>10</th>\n",
       "      <td>10</td>\n",
       "      <td>Minas Gerais</td>\n",
       "      <td>6</td>\n",
       "      <td>1</td>\n",
       "      <td>Macedo</td>\n",
       "      <td>6030.777335</td>\n",
       "    </tr>\n",
       "    <tr>\n",
       "      <th>11</th>\n",
       "      <td>11</td>\n",
       "      <td>São Paulo</td>\n",
       "      <td>10</td>\n",
       "      <td>1</td>\n",
       "      <td>Imobilius</td>\n",
       "      <td>28286.570133</td>\n",
       "    </tr>\n",
       "    <tr>\n",
       "      <th>12</th>\n",
       "      <td>12</td>\n",
       "      <td>Rio de Janeiro</td>\n",
       "      <td>5</td>\n",
       "      <td>0</td>\n",
       "      <td>Brasil Casas</td>\n",
       "      <td>5025.647779</td>\n",
       "    </tr>\n",
       "    <tr>\n",
       "      <th>13</th>\n",
       "      <td>13</td>\n",
       "      <td>São Paulo</td>\n",
       "      <td>10</td>\n",
       "      <td>0</td>\n",
       "      <td>Imobilius</td>\n",
       "      <td>28286.570133</td>\n",
       "    </tr>\n",
       "    <tr>\n",
       "      <th>14</th>\n",
       "      <td>14</td>\n",
       "      <td>Minas Gerais</td>\n",
       "      <td>7</td>\n",
       "      <td>0</td>\n",
       "      <td>Imobilius</td>\n",
       "      <td>19800.599093</td>\n",
       "    </tr>\n",
       "    <tr>\n",
       "      <th>15</th>\n",
       "      <td>15</td>\n",
       "      <td>São Paulo</td>\n",
       "      <td>7</td>\n",
       "      <td>0</td>\n",
       "      <td>Imobilius</td>\n",
       "      <td>13417.762371</td>\n",
       "    </tr>\n",
       "    <tr>\n",
       "      <th>16</th>\n",
       "      <td>16</td>\n",
       "      <td>Rio de Janeiro</td>\n",
       "      <td>4</td>\n",
       "      <td>1</td>\n",
       "      <td>Imobilius</td>\n",
       "      <td>7667.292783</td>\n",
       "    </tr>\n",
       "    <tr>\n",
       "      <th>17</th>\n",
       "      <td>17</td>\n",
       "      <td>Rio de Janeiro</td>\n",
       "      <td>8</td>\n",
       "      <td>0</td>\n",
       "      <td>Macedo</td>\n",
       "      <td>6002.522515</td>\n",
       "    </tr>\n",
       "    <tr>\n",
       "      <th>18</th>\n",
       "      <td>18</td>\n",
       "      <td>São Paulo</td>\n",
       "      <td>9</td>\n",
       "      <td>1</td>\n",
       "      <td>Macedo</td>\n",
       "      <td>6752.837830</td>\n",
       "    </tr>\n",
       "    <tr>\n",
       "      <th>19</th>\n",
       "      <td>19</td>\n",
       "      <td>São Paulo</td>\n",
       "      <td>8</td>\n",
       "      <td>1</td>\n",
       "      <td>Brasil Casas</td>\n",
       "      <td>8041.036447</td>\n",
       "    </tr>\n",
       "  </tbody>\n",
       "</table>\n",
       "</div>"
      ],
      "text/plain": [
       "    id          cidade  num_comodos  esta_alugado   imobiliaria         preco\n",
       "0    0       São Paulo           12             1       Xhouses   9003.783773\n",
       "1    1    Minas Gerais            9             0  Brasil Casas   6752.837830\n",
       "2    2    Minas Gerais            5             1        Macedo  14143.285066\n",
       "3    3    Minas Gerais            8             0        Macedo  22629.256106\n",
       "4    4       São Paulo            9             1        Macedo   6752.837830\n",
       "5    5       São Paulo            7             1     Imobilius   7035.906891\n",
       "6    6    Minas Gerais            9             1  Brasil Casas  17251.408763\n",
       "7    7       São Paulo            9             0       Xhouses  25457.913120\n",
       "8    8       São Paulo            4             1        Macedo   4020.518223\n",
       "9    9  Rio de Janeiro            8             0       Xhouses  15334.585567\n",
       "10  10    Minas Gerais            6             1        Macedo   6030.777335\n",
       "11  11       São Paulo           10             1     Imobilius  28286.570133\n",
       "12  12  Rio de Janeiro            5             0  Brasil Casas   5025.647779\n",
       "13  13       São Paulo           10             0     Imobilius  28286.570133\n",
       "14  14    Minas Gerais            7             0     Imobilius  19800.599093\n",
       "15  15       São Paulo            7             0     Imobilius  13417.762371\n",
       "16  16  Rio de Janeiro            4             1     Imobilius   7667.292783\n",
       "17  17  Rio de Janeiro            8             0        Macedo   6002.522515\n",
       "18  18       São Paulo            9             1        Macedo   6752.837830\n",
       "19  19       São Paulo            8             1  Brasil Casas   8041.036447"
      ]
     },
     "execution_count": 23,
     "metadata": {},
     "output_type": "execute_result"
    }
   ],
   "source": [
    "casas_alugadas_merged = casas_alugadas.merge(imobiliarias, how='inner', on='id')\n",
    "casas_alugadas_merged"
   ]
  },
  {
   "cell_type": "markdown",
   "id": "1c1a706b-f1ca-4d59-b249-1da3483b90a5",
   "metadata": {},
   "source": [
    "# Questões para análise:\n",
    "* Quais são os preços mínimos, médios, 1Q, mediano, 3Q e máximo por imobiliaria? e por cidade?\n",
    "* Quais são as cidades mais alugadas e menos alugadas? e as imobiliarias mais alugadas e menos alugadas?\n",
    "* Preço médio das casas não alugadas por cidade\n",
    "* Preço médio das casas não alugadas por imobiliarias\n",
    "* Quais casas tem um número bom de comodos e tem um preço mais baixo\n",
    "    - Neste precisarei ver qual a casa mais barata por meio de uma ordem df.sort_values/df.nsmallest com dois parâmetros."
   ]
  },
  {
   "cell_type": "markdown",
   "id": "1f16e812-e980-440e-b1d3-443587560b34",
   "metadata": {},
   "source": [
    "### Quais são os preços mínimos, médios, 1Q, mediano, 3Q e máximo por imobiliaria? e por cidade?\n"
   ]
  },
  {
   "cell_type": "code",
   "execution_count": 25,
   "id": "680ecc48-854d-447f-ad42-648aef04de46",
   "metadata": {},
   "outputs": [
    {
     "data": {
      "text/html": [
       "<div>\n",
       "<style scoped>\n",
       "    .dataframe tbody tr th:only-of-type {\n",
       "        vertical-align: middle;\n",
       "    }\n",
       "\n",
       "    .dataframe tbody tr th {\n",
       "        vertical-align: top;\n",
       "    }\n",
       "\n",
       "    .dataframe thead th {\n",
       "        text-align: right;\n",
       "    }\n",
       "</style>\n",
       "<table border=\"1\" class=\"dataframe\">\n",
       "  <thead>\n",
       "    <tr style=\"text-align: right;\">\n",
       "      <th></th>\n",
       "      <th>count</th>\n",
       "      <th>mean</th>\n",
       "      <th>std</th>\n",
       "      <th>min</th>\n",
       "      <th>25%</th>\n",
       "      <th>50%</th>\n",
       "      <th>75%</th>\n",
       "      <th>max</th>\n",
       "    </tr>\n",
       "    <tr>\n",
       "      <th>imobiliaria</th>\n",
       "      <th></th>\n",
       "      <th></th>\n",
       "      <th></th>\n",
       "      <th></th>\n",
       "      <th></th>\n",
       "      <th></th>\n",
       "      <th></th>\n",
       "      <th></th>\n",
       "    </tr>\n",
       "  </thead>\n",
       "  <tbody>\n",
       "    <tr>\n",
       "      <th>Brasil Casas</th>\n",
       "      <td>4.0</td>\n",
       "      <td>9267.73</td>\n",
       "      <td>5463.94</td>\n",
       "      <td>5025.65</td>\n",
       "      <td>6321.04</td>\n",
       "      <td>7396.94</td>\n",
       "      <td>10343.63</td>\n",
       "      <td>17251.41</td>\n",
       "    </tr>\n",
       "    <tr>\n",
       "      <th>Imobilius</th>\n",
       "      <td>6.0</td>\n",
       "      <td>17415.78</td>\n",
       "      <td>9599.94</td>\n",
       "      <td>7035.91</td>\n",
       "      <td>9104.91</td>\n",
       "      <td>16609.18</td>\n",
       "      <td>26165.08</td>\n",
       "      <td>28286.57</td>\n",
       "    </tr>\n",
       "    <tr>\n",
       "      <th>Macedo</th>\n",
       "      <td>7.0</td>\n",
       "      <td>9476.00</td>\n",
       "      <td>6624.70</td>\n",
       "      <td>4020.52</td>\n",
       "      <td>6016.65</td>\n",
       "      <td>6752.84</td>\n",
       "      <td>10448.06</td>\n",
       "      <td>22629.26</td>\n",
       "    </tr>\n",
       "    <tr>\n",
       "      <th>Xhouses</th>\n",
       "      <td>3.0</td>\n",
       "      <td>16598.76</td>\n",
       "      <td>8299.59</td>\n",
       "      <td>9003.78</td>\n",
       "      <td>12169.18</td>\n",
       "      <td>15334.59</td>\n",
       "      <td>20396.25</td>\n",
       "      <td>25457.91</td>\n",
       "    </tr>\n",
       "  </tbody>\n",
       "</table>\n",
       "</div>"
      ],
      "text/plain": [
       "              count      mean      std      min       25%       50%       75%  \\\n",
       "imobiliaria                                                                     \n",
       "Brasil Casas    4.0   9267.73  5463.94  5025.65   6321.04   7396.94  10343.63   \n",
       "Imobilius       6.0  17415.78  9599.94  7035.91   9104.91  16609.18  26165.08   \n",
       "Macedo          7.0   9476.00  6624.70  4020.52   6016.65   6752.84  10448.06   \n",
       "Xhouses         3.0  16598.76  8299.59  9003.78  12169.18  15334.59  20396.25   \n",
       "\n",
       "                   max  \n",
       "imobiliaria             \n",
       "Brasil Casas  17251.41  \n",
       "Imobilius     28286.57  \n",
       "Macedo        22629.26  \n",
       "Xhouses       25457.91  "
      ]
     },
     "execution_count": 25,
     "metadata": {},
     "output_type": "execute_result"
    }
   ],
   "source": [
    "casas_alugadas_merged.groupby('imobiliaria').preco.describe().round(2)"
   ]
  },
  {
   "cell_type": "code",
   "execution_count": 26,
   "id": "04d022f6-2a4f-4a91-99eb-b53577f657c9",
   "metadata": {},
   "outputs": [
    {
     "data": {
      "text/html": [
       "<div>\n",
       "<style scoped>\n",
       "    .dataframe tbody tr th:only-of-type {\n",
       "        vertical-align: middle;\n",
       "    }\n",
       "\n",
       "    .dataframe tbody tr th {\n",
       "        vertical-align: top;\n",
       "    }\n",
       "\n",
       "    .dataframe thead th {\n",
       "        text-align: right;\n",
       "    }\n",
       "</style>\n",
       "<table border=\"1\" class=\"dataframe\">\n",
       "  <thead>\n",
       "    <tr style=\"text-align: right;\">\n",
       "      <th></th>\n",
       "      <th>count</th>\n",
       "      <th>mean</th>\n",
       "      <th>std</th>\n",
       "      <th>min</th>\n",
       "      <th>25%</th>\n",
       "      <th>50%</th>\n",
       "      <th>75%</th>\n",
       "      <th>max</th>\n",
       "    </tr>\n",
       "    <tr>\n",
       "      <th>cidade</th>\n",
       "      <th></th>\n",
       "      <th></th>\n",
       "      <th></th>\n",
       "      <th></th>\n",
       "      <th></th>\n",
       "      <th></th>\n",
       "      <th></th>\n",
       "      <th></th>\n",
       "    </tr>\n",
       "  </thead>\n",
       "  <tbody>\n",
       "    <tr>\n",
       "      <th>Minas Gerais</th>\n",
       "      <td>6.0</td>\n",
       "      <td>14434.69</td>\n",
       "      <td>6835.19</td>\n",
       "      <td>6030.78</td>\n",
       "      <td>8600.45</td>\n",
       "      <td>15697.35</td>\n",
       "      <td>19163.30</td>\n",
       "      <td>22629.26</td>\n",
       "    </tr>\n",
       "    <tr>\n",
       "      <th>Rio de Janeiro</th>\n",
       "      <td>4.0</td>\n",
       "      <td>8507.51</td>\n",
       "      <td>4680.22</td>\n",
       "      <td>5025.65</td>\n",
       "      <td>5758.30</td>\n",
       "      <td>6834.91</td>\n",
       "      <td>9584.12</td>\n",
       "      <td>15334.59</td>\n",
       "    </tr>\n",
       "    <tr>\n",
       "      <th>São Paulo</th>\n",
       "      <td>10.0</td>\n",
       "      <td>13705.57</td>\n",
       "      <td>9732.94</td>\n",
       "      <td>4020.52</td>\n",
       "      <td>6823.61</td>\n",
       "      <td>8522.41</td>\n",
       "      <td>22447.88</td>\n",
       "      <td>28286.57</td>\n",
       "    </tr>\n",
       "  </tbody>\n",
       "</table>\n",
       "</div>"
      ],
      "text/plain": [
       "                count      mean      std      min      25%       50%  \\\n",
       "cidade                                                                 \n",
       "Minas Gerais      6.0  14434.69  6835.19  6030.78  8600.45  15697.35   \n",
       "Rio de Janeiro    4.0   8507.51  4680.22  5025.65  5758.30   6834.91   \n",
       "São Paulo        10.0  13705.57  9732.94  4020.52  6823.61   8522.41   \n",
       "\n",
       "                     75%       max  \n",
       "cidade                              \n",
       "Minas Gerais    19163.30  22629.26  \n",
       "Rio de Janeiro   9584.12  15334.59  \n",
       "São Paulo       22447.88  28286.57  "
      ]
     },
     "execution_count": 26,
     "metadata": {},
     "output_type": "execute_result"
    }
   ],
   "source": [
    "casas_alugadas_merged.groupby('cidade').preco.describe().round(2)"
   ]
  },
  {
   "cell_type": "markdown",
   "id": "f233f895-a7cf-497c-84db-fe992e3a2398",
   "metadata": {},
   "source": [
    "### Quais são as cidades mais alugadas e menos alugadas? e as imobiliarias mais alugadas e menos alugadas?"
   ]
  },
  {
   "cell_type": "markdown",
   "id": "1923bf90-0631-4db8-b93b-510a5e548dd2",
   "metadata": {},
   "source": [
    "Continuarei aproveitando o `casas_alugadas_merged` para analisar os dados."
   ]
  },
  {
   "cell_type": "code",
   "execution_count": 40,
   "id": "7281c9b1-e5fa-4d01-a723-5983ad7896b3",
   "metadata": {},
   "outputs": [
    {
     "data": {
      "text/plain": [
       "cidade\n",
       "São Paulo         7\n",
       "Minas Gerais      3\n",
       "Rio de Janeiro    1\n",
       "Name: esta_alugado, dtype: int64"
      ]
     },
     "execution_count": 40,
     "metadata": {},
     "output_type": "execute_result"
    }
   ],
   "source": [
    "# mais alugados por cidade\n",
    "casas_alugadas_merged[casas_alugadas_merged.esta_alugado == 1].groupby('cidade').count().esta_alugado.sort_values(ascending=False)"
   ]
  },
  {
   "cell_type": "code",
   "execution_count": 41,
   "id": "1627ba13-b39a-4fd0-a068-4718e8500991",
   "metadata": {},
   "outputs": [
    {
     "data": {
      "text/plain": [
       "imobiliaria\n",
       "Macedo          5\n",
       "Imobilius       3\n",
       "Brasil Casas    2\n",
       "Xhouses         1\n",
       "Name: esta_alugado, dtype: int64"
      ]
     },
     "execution_count": 41,
     "metadata": {},
     "output_type": "execute_result"
    }
   ],
   "source": [
    "casas_alugadas_merged[casas_alugadas_merged.esta_alugado == 1].groupby('imobiliaria').count().esta_alugado.sort_values(ascending=False)"
   ]
  },
  {
   "cell_type": "markdown",
   "id": "dc18adec-db40-4e2f-97ac-23a2bd804548",
   "metadata": {},
   "source": [
    "### Preço médio das casas não alugadas por cidade"
   ]
  },
  {
   "cell_type": "code",
   "execution_count": 46,
   "id": "054a189d-2c06-4f17-b932-0b41e9118d3b",
   "metadata": {},
   "outputs": [
    {
     "data": {
      "text/plain": [
       "cidade\n",
       "Minas Gerais      16394.23\n",
       "Rio de Janeiro     8787.59\n",
       "São Paulo         22387.42\n",
       "Name: preco, dtype: float64"
      ]
     },
     "execution_count": 46,
     "metadata": {},
     "output_type": "execute_result"
    }
   ],
   "source": [
    "casas_alugadas_merged[casas_alugadas_merged.esta_alugado == 0].groupby('cidade').preco.mean().round(2)"
   ]
  },
  {
   "cell_type": "markdown",
   "id": "9803ab9c-e96b-4451-b575-7b0d72d32d9a",
   "metadata": {},
   "source": [
    "### Preço médio das casas não alugadas por imobiliarias"
   ]
  },
  {
   "cell_type": "code",
   "execution_count": 47,
   "id": "63643e28-4a70-4ef7-ab69-8707ece39910",
   "metadata": {},
   "outputs": [
    {
     "data": {
      "text/plain": [
       "imobiliaria\n",
       "Brasil Casas     5889.24\n",
       "Imobilius       20501.64\n",
       "Macedo          14315.89\n",
       "Xhouses         20396.25\n",
       "Name: preco, dtype: float64"
      ]
     },
     "execution_count": 47,
     "metadata": {},
     "output_type": "execute_result"
    }
   ],
   "source": [
    "casas_alugadas_merged[casas_alugadas_merged.esta_alugado == 0].groupby('imobiliaria').preco.mean().round(2)"
   ]
  },
  {
   "cell_type": "markdown",
   "id": "64526688-2403-4610-9240-74c8ecb1ed80",
   "metadata": {},
   "source": [
    "### Quais casas tem um número bom de comodos e tem um preço mais baixo"
   ]
  },
  {
   "cell_type": "code",
   "execution_count": 50,
   "id": "9821ee5f-a1d7-4287-a297-acf099f722f7",
   "metadata": {},
   "outputs": [
    {
     "data": {
      "text/html": [
       "<div>\n",
       "<style scoped>\n",
       "    .dataframe tbody tr th:only-of-type {\n",
       "        vertical-align: middle;\n",
       "    }\n",
       "\n",
       "    .dataframe tbody tr th {\n",
       "        vertical-align: top;\n",
       "    }\n",
       "\n",
       "    .dataframe thead th {\n",
       "        text-align: right;\n",
       "    }\n",
       "</style>\n",
       "<table border=\"1\" class=\"dataframe\">\n",
       "  <thead>\n",
       "    <tr style=\"text-align: right;\">\n",
       "      <th></th>\n",
       "      <th>id</th>\n",
       "      <th>cidade</th>\n",
       "      <th>num_comodos</th>\n",
       "      <th>esta_alugado</th>\n",
       "      <th>imobiliaria</th>\n",
       "      <th>preco</th>\n",
       "    </tr>\n",
       "  </thead>\n",
       "  <tbody>\n",
       "    <tr>\n",
       "      <th>12</th>\n",
       "      <td>12</td>\n",
       "      <td>Rio de Janeiro</td>\n",
       "      <td>5</td>\n",
       "      <td>0</td>\n",
       "      <td>Brasil Casas</td>\n",
       "      <td>5025.647779</td>\n",
       "    </tr>\n",
       "    <tr>\n",
       "      <th>15</th>\n",
       "      <td>15</td>\n",
       "      <td>São Paulo</td>\n",
       "      <td>7</td>\n",
       "      <td>0</td>\n",
       "      <td>Imobilius</td>\n",
       "      <td>13417.762371</td>\n",
       "    </tr>\n",
       "    <tr>\n",
       "      <th>14</th>\n",
       "      <td>14</td>\n",
       "      <td>Minas Gerais</td>\n",
       "      <td>7</td>\n",
       "      <td>0</td>\n",
       "      <td>Imobilius</td>\n",
       "      <td>19800.599093</td>\n",
       "    </tr>\n",
       "    <tr>\n",
       "      <th>17</th>\n",
       "      <td>17</td>\n",
       "      <td>Rio de Janeiro</td>\n",
       "      <td>8</td>\n",
       "      <td>0</td>\n",
       "      <td>Macedo</td>\n",
       "      <td>6002.522515</td>\n",
       "    </tr>\n",
       "    <tr>\n",
       "      <th>9</th>\n",
       "      <td>9</td>\n",
       "      <td>Rio de Janeiro</td>\n",
       "      <td>8</td>\n",
       "      <td>0</td>\n",
       "      <td>Xhouses</td>\n",
       "      <td>15334.585567</td>\n",
       "    </tr>\n",
       "    <tr>\n",
       "      <th>3</th>\n",
       "      <td>3</td>\n",
       "      <td>Minas Gerais</td>\n",
       "      <td>8</td>\n",
       "      <td>0</td>\n",
       "      <td>Macedo</td>\n",
       "      <td>22629.256106</td>\n",
       "    </tr>\n",
       "    <tr>\n",
       "      <th>1</th>\n",
       "      <td>1</td>\n",
       "      <td>Minas Gerais</td>\n",
       "      <td>9</td>\n",
       "      <td>0</td>\n",
       "      <td>Brasil Casas</td>\n",
       "      <td>6752.837830</td>\n",
       "    </tr>\n",
       "    <tr>\n",
       "      <th>7</th>\n",
       "      <td>7</td>\n",
       "      <td>São Paulo</td>\n",
       "      <td>9</td>\n",
       "      <td>0</td>\n",
       "      <td>Xhouses</td>\n",
       "      <td>25457.913120</td>\n",
       "    </tr>\n",
       "    <tr>\n",
       "      <th>13</th>\n",
       "      <td>13</td>\n",
       "      <td>São Paulo</td>\n",
       "      <td>10</td>\n",
       "      <td>0</td>\n",
       "      <td>Imobilius</td>\n",
       "      <td>28286.570133</td>\n",
       "    </tr>\n",
       "  </tbody>\n",
       "</table>\n",
       "</div>"
      ],
      "text/plain": [
       "    id          cidade  num_comodos  esta_alugado   imobiliaria         preco\n",
       "12  12  Rio de Janeiro            5             0  Brasil Casas   5025.647779\n",
       "15  15       São Paulo            7             0     Imobilius  13417.762371\n",
       "14  14    Minas Gerais            7             0     Imobilius  19800.599093\n",
       "17  17  Rio de Janeiro            8             0        Macedo   6002.522515\n",
       "9    9  Rio de Janeiro            8             0       Xhouses  15334.585567\n",
       "3    3    Minas Gerais            8             0        Macedo  22629.256106\n",
       "1    1    Minas Gerais            9             0  Brasil Casas   6752.837830\n",
       "7    7       São Paulo            9             0       Xhouses  25457.913120\n",
       "13  13       São Paulo           10             0     Imobilius  28286.570133"
      ]
     },
     "execution_count": 50,
     "metadata": {},
     "output_type": "execute_result"
    }
   ],
   "source": [
    "casas_alugadas_merged[casas_alugadas_merged.esta_alugado == 0].sort_values(by=['num_comodos', 'preco'])"
   ]
  },
  {
   "cell_type": "markdown",
   "id": "8f60b6ab-efab-48f0-a93c-ee0d855ed600",
   "metadata": {},
   "source": [
    "Podemos ver que no `id` 1 temos uma casa pelo preço de 6752 reais com 9 comodos, podendo ser o mais em conta das outras casas para se alugar."
   ]
  },
  {
   "cell_type": "markdown",
   "id": "d90c391e-b0b9-4f11-b50d-e34e1b4b78f6",
   "metadata": {},
   "source": [
    "# Questões de análise e visualização\n",
    "* Pode-se ver relações entre as váriaveis? \n",
    "    - scatterplot/regplot, df.corr, pairplot\n",
    "* Pode-se ver uma diferença de preço por cidade de casas não alugadas? e por imobiliaria? \n",
    "    - barplot"
   ]
  },
  {
   "cell_type": "code",
   "execution_count": 51,
   "id": "939b5564-6140-4e85-b081-c18f9ef670ff",
   "metadata": {},
   "outputs": [],
   "source": [
    "import seaborn as sns\n",
    "import matplotlib.pyplot as plt"
   ]
  },
  {
   "cell_type": "markdown",
   "id": "87634d70-8fd4-47dc-b254-d8f31b6d667d",
   "metadata": {},
   "source": [
    "Uso do pairplot para ver as correlações por meio de scatterplots"
   ]
  },
  {
   "cell_type": "code",
   "execution_count": 54,
   "id": "a254316c-e5af-491b-84f5-286713d87557",
   "metadata": {},
   "outputs": [
    {
     "data": {
      "text/plain": [
       "<seaborn.axisgrid.PairGrid at 0x152151d8>"
      ]
     },
     "execution_count": 54,
     "metadata": {},
     "output_type": "execute_result"
    },
    {
     "data": {
      "text/plain": [
       "<Figure size 720x576 with 0 Axes>"
      ]
     },
     "metadata": {},
     "output_type": "display_data"
    },
    {
     "data": {
      "image/png": "[encoded data removed]",
      "text/plain": [
       "<Figure size 824.75x720 with 20 Axes>"
      ]
     },
     "metadata": {
      "needs_background": "light"
     },
     "output_type": "display_data"
    }
   ],
   "source": [
    "plt.figure(figsize=(10, 8))\n",
    "\n",
    "sns.pairplot(data=casas_alugadas_merged, hue=\"cidade\")"
   ]
  },
  {
   "cell_type": "markdown",
   "id": "76d70f4b-e209-422d-9ce7-0abb2f01fe1f",
   "metadata": {},
   "source": [
    "#### Correlação por df.corr"
   ]
  },
  {
   "cell_type": "code",
   "execution_count": 65,
   "id": "a0c6b5fb-1376-49eb-b6ec-f6a741d13bf6",
   "metadata": {},
   "outputs": [
    {
     "data": {
      "text/html": [
       "<div>\n",
       "<style scoped>\n",
       "    .dataframe tbody tr th:only-of-type {\n",
       "        vertical-align: middle;\n",
       "    }\n",
       "\n",
       "    .dataframe tbody tr th {\n",
       "        vertical-align: top;\n",
       "    }\n",
       "\n",
       "    .dataframe thead th {\n",
       "        text-align: right;\n",
       "    }\n",
       "</style>\n",
       "<table border=\"1\" class=\"dataframe\">\n",
       "  <thead>\n",
       "    <tr style=\"text-align: right;\">\n",
       "      <th></th>\n",
       "      <th>id</th>\n",
       "      <th>num_comodos</th>\n",
       "      <th>esta_alugado</th>\n",
       "      <th>preco</th>\n",
       "    </tr>\n",
       "  </thead>\n",
       "  <tbody>\n",
       "    <tr>\n",
       "      <th>id</th>\n",
       "      <td>1.00</td>\n",
       "      <td>-0.22</td>\n",
       "      <td>-0.10</td>\n",
       "      <td>-0.06</td>\n",
       "    </tr>\n",
       "    <tr>\n",
       "      <th>num_comodos</th>\n",
       "      <td>-0.22</td>\n",
       "      <td>1.00</td>\n",
       "      <td>-0.08</td>\n",
       "      <td>0.41</td>\n",
       "    </tr>\n",
       "    <tr>\n",
       "      <th>esta_alugado</th>\n",
       "      <td>-0.10</td>\n",
       "      <td>-0.08</td>\n",
       "      <td>1.00</td>\n",
       "      <td>-0.34</td>\n",
       "    </tr>\n",
       "    <tr>\n",
       "      <th>preco</th>\n",
       "      <td>-0.06</td>\n",
       "      <td>0.41</td>\n",
       "      <td>-0.34</td>\n",
       "      <td>1.00</td>\n",
       "    </tr>\n",
       "  </tbody>\n",
       "</table>\n",
       "</div>"
      ],
      "text/plain": [
       "                id  num_comodos  esta_alugado  preco\n",
       "id            1.00        -0.22         -0.10  -0.06\n",
       "num_comodos  -0.22         1.00         -0.08   0.41\n",
       "esta_alugado -0.10        -0.08          1.00  -0.34\n",
       "preco        -0.06         0.41         -0.34   1.00"
      ]
     },
     "execution_count": 65,
     "metadata": {},
     "output_type": "execute_result"
    }
   ],
   "source": [
    "casas_alugadas_merged.corr().round(2)"
   ]
  },
  {
   "cell_type": "markdown",
   "id": "abe200fd-1d6b-40c6-9cdb-cbb1d83573ff",
   "metadata": {},
   "source": [
    "### Há uma relação entre numero de comodos e preço?"
   ]
  },
  {
   "cell_type": "code",
   "execution_count": 56,
   "id": "6170934c-dce5-4c1c-80de-b49017e50c7e",
   "metadata": {},
   "outputs": [
    {
     "data": {
      "text/plain": [
       "<AxesSubplot:xlabel='num_comodos', ylabel='preco'>"
      ]
     },
     "execution_count": 56,
     "metadata": {},
     "output_type": "execute_result"
    },
    {
     "data": {
      "image/png": "[encoded data removed]",
      "text/plain": [
       "<Figure size 432x288 with 1 Axes>"
      ]
     },
     "metadata": {
      "needs_background": "light"
     },
     "output_type": "display_data"
    }
   ],
   "source": [
    "sns.regplot(x='num_comodos', y='preco', data=casas_alugadas_merged)"
   ]
  },
  {
   "cell_type": "markdown",
   "id": "81ac8497-b908-4671-adc1-b5dfc3b8d8b8",
   "metadata": {},
   "source": [
    "#### Por cidade"
   ]
  },
  {
   "cell_type": "code",
   "execution_count": 58,
   "id": "22303c56-e426-4e11-a6c0-97110d2a8964",
   "metadata": {},
   "outputs": [
    {
     "data": {
      "text/plain": [
       "<AxesSubplot:xlabel='num_comodos', ylabel='preco'>"
      ]
     },
     "execution_count": 58,
     "metadata": {},
     "output_type": "execute_result"
    },
    {
     "data": {
      "image/png": "[encoded data removed]",
      "text/plain": [
       "<Figure size 432x288 with 1 Axes>"
      ]
     },
     "metadata": {
      "needs_background": "light"
     },
     "output_type": "display_data"
    }
   ],
   "source": [
    "sns.scatterplot(x='num_comodos', y='preco', hue='cidade', data=casas_alugadas_merged)"
   ]
  },
  {
   "cell_type": "markdown",
   "id": "a0874fa0-6211-4e97-8f73-da6aa6e88f4b",
   "metadata": {},
   "source": [
    "#### Por imobiliaria"
   ]
  },
  {
   "cell_type": "code",
   "execution_count": 59,
   "id": "7f9b9bf6-e54c-4e0a-85bd-1944e9f1402c",
   "metadata": {},
   "outputs": [
    {
     "data": {
      "text/plain": [
       "<AxesSubplot:xlabel='num_comodos', ylabel='preco'>"
      ]
     },
     "execution_count": 59,
     "metadata": {},
     "output_type": "execute_result"
    },
    {
     "data": {
      "image/png": "[encoded data removed]",
      "text/plain": [
       "<Figure size 432x288 with 1 Axes>"
      ]
     },
     "metadata": {
      "needs_background": "light"
     },
     "output_type": "display_data"
    }
   ],
   "source": [
    "sns.scatterplot(x='num_comodos', y='preco', hue='imobiliaria', data=casas_alugadas_merged)"
   ]
  },
  {
   "cell_type": "markdown",
   "id": "27d5a6f4-686f-439c-b542-710037473bd5",
   "metadata": {},
   "source": [
    "# Conclusão\n",
    "## Técnica\n",
    "Fizemos datasets fakes usando o `np.random_sample()` e para manter os mesmos números pseudo-aleatorios usamos o `np.random.default_rng` com a `seed 7012022`, e também uma pequena função em que 'calcula' e randomiza os preços das casas baseado nas imobiliarias e numeros dos comodos ([celula da função](#calcula_preco)). Nesta função tentei modificar o preço no fator da imobiliaria, sendo a `Imobilius` com preços menores, e a `Brasil Casas` com preços maiores, e calculei `fator_imobiliaria * num_comodos/2`, confesso que necessita de alteração nessas funções a fim de normalizar os dados e não ter tanto desvio ou desuniformidade. Usamos os métodos `concat` e `merge` para unir os dois datasets(`casas_alugadas` e `imobiliarias`).\n",
    "\n",
    "## Análise\n",
    "Respondemos algumas questões a fim de entender melhor:\n",
    "* Como nossos dados estão descritos(média, desvio padrão, mínimo, 1Q, mediana, 3Q e máximo)\n",
    "* Quais são as casas mais alugadas agrupadas por cidades e imobiliarias\n",
    "* Preços médios das casas não alugadas por cidade e imobiliaria\n",
    "* E qual casa seria a melhor de alugar baseado no maior numero de comodos e o menor preço.(Que seria a casa de `id 1` com `9 número de comodos` e com o `preço de R$6752`.\n",
    "\n",
    "Também foi visto por meio de alguns gráficos(pairplot, scatterplot, regplot) que:\n",
    "* Há muita dispersão entre os dados.\n",
    "* Podiamos ver uma pequena correlação positiva entre `número de cômodos` e `preço` com a força positiva de 40% baseado no `casas_alugadas_merged.corr()`"
   ]
  },
  {
   "cell_type": "code",
   "execution_count": null,
   "id": "68432745-b59f-4211-aae7-cd3c7ca040cc",
   "metadata": {},
   "outputs": [],
   "source": []
  }
 ],
 "metadata": {
  "kernelspec": {
   "display_name": "Python 3 (ipykernel)",
   "language": "python",
   "name": "python3"
  },
  "language_info": {
   "codemirror_mode": {
    "name": "ipython",
    "version": 3
   },
   "file_extension": ".py",
   "mimetype": "text/x-python",
   "name": "python",
   "nbconvert_exporter": "python",
   "pygments_lexer": "ipython3",
   "version": "3.8.3"
  }
 },
 "nbformat": 4,
 "nbformat_minor": 5
}
